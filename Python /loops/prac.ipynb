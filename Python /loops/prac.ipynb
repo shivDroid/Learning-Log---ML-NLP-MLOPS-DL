{
 "cells": [
  {
   "cell_type": "code",
   "execution_count": 1,
   "metadata": {},
   "outputs": [
    {
     "name": "stdout",
     "output_type": "stream",
     "text": [
      "i : 0 and j: 0\n",
      "i : 0 and j: 1\n",
      "i : 0 and j: 2\n",
      "i : 0 and j: 3\n",
      "i : 1 and j: 0\n",
      "i : 1 and j: 1\n",
      "i : 1 and j: 2\n",
      "i : 1 and j: 3\n",
      "i : 2 and j: 0\n",
      "i : 2 and j: 1\n",
      "i : 2 and j: 2\n",
      "i : 2 and j: 3\n"
     ]
    }
   ],
   "source": [
    "for i in range(3):\n",
    "    for j in range(4):\n",
    "        print(f\"i : {i} and j: {j}\")"
   ]
  },
  {
   "cell_type": "code",
   "execution_count": 4,
   "metadata": {},
   "outputs": [
    {
     "name": "stdout",
     "output_type": "stream",
     "text": [
      "55\n",
      "55\n"
     ]
    }
   ],
   "source": [
    "#Calculate the sum of N natural numbers usinga while and for loop \n",
    "\n",
    "numbers_to_sum_till = int(input(\"Enter the number you want to sum till:  \"))\n",
    "\n",
    "#Using for loop \n",
    "initial_sum = 0\n",
    "for number in range(numbers_to_sum_till + 1):\n",
    "    initial_sum = initial_sum + number\n",
    "print(initial_sum)\n",
    "\n",
    "#Using while loop\n",
    "counter = 0\n",
    "sum = 0\n",
    "while counter != numbers_to_sum_till + 1:\n",
    "    sum = sum + counter\n",
    "    counter = counter + 1\n",
    "print(sum)"
   ]
  },
  {
   "cell_type": "code",
   "execution_count": 5,
   "metadata": {},
   "outputs": [
    {
     "ename": "TypeError",
     "evalue": "unsupported operand type(s) for %: 'int' and 'range'",
     "output_type": "error",
     "traceback": [
      "\u001b[0;31m---------------------------------------------------------------------------\u001b[0m",
      "\u001b[0;31mTypeError\u001b[0m                                 Traceback (most recent call last)",
      "Cell \u001b[0;32mIn[5], line 8\u001b[0m\n\u001b[1;32m      6\u001b[0m     \u001b[38;5;28mprint\u001b[39m(\u001b[38;5;241m2\u001b[39m)\n\u001b[1;32m      7\u001b[0m \u001b[38;5;28;01melse\u001b[39;00m:\n\u001b[0;32m----> 8\u001b[0m     \u001b[38;5;28;01mif\u001b[39;00m \u001b[43mnumber\u001b[49m\u001b[43m \u001b[49m\u001b[38;5;241;43m%\u001b[39;49m\u001b[43m \u001b[49m\u001b[38;5;28;43mrange\u001b[39;49m\u001b[43m(\u001b[49m\u001b[38;5;241;43m1\u001b[39;49m\u001b[43m,\u001b[49m\u001b[38;5;241;43m10\u001b[39;49m\u001b[43m)\u001b[49m \u001b[38;5;241m!=\u001b[39m \u001b[38;5;241m0\u001b[39m:\n\u001b[1;32m      9\u001b[0m         \u001b[38;5;28mprint\u001b[39m(number)\n",
      "\u001b[0;31mTypeError\u001b[0m: unsupported operand type(s) for %: 'int' and 'range'"
     ]
    }
   ],
   "source": [
    "#prime numbers from 0 to 100 \n",
    "\n",
    "for numbers in range(0,101):\n",
    "    if number > 1:\n",
    "        if number ==  2:\n",
    "            print(2)\n",
    "        else:\n",
    "            if number % range(1,10) != 0:\n",
    "                print(number)\n",
    "                \n",
    "\n",
    "            \n",
    "        \n",
    "\n"
   ]
  }
 ],
 "metadata": {
  "kernelspec": {
   "display_name": "Python 3",
   "language": "python",
   "name": "python3"
  },
  "language_info": {
   "codemirror_mode": {
    "name": "ipython",
    "version": 3
   },
   "file_extension": ".py",
   "mimetype": "text/x-python",
   "name": "python",
   "nbconvert_exporter": "python",
   "pygments_lexer": "ipython3",
   "version": "3.1.undefined"
  }
 },
 "nbformat": 4,
 "nbformat_minor": 2
}
